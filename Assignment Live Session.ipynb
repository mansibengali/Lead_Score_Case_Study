{
 "cells": [
  {
   "cell_type": "code",
   "execution_count": 5,
   "id": "7158c6b5",
   "metadata": {},
   "outputs": [],
   "source": [
    "import numpy as np\n",
    "import pandas as pd"
   ]
  },
  {
   "cell_type": "code",
   "execution_count": null,
   "id": "55290d88",
   "metadata": {},
   "outputs": [],
   "source": []
  },
  {
   "cell_type": "code",
   "execution_count": 7,
   "id": "c654d12b",
   "metadata": {},
   "outputs": [],
   "source": [
    "leads = pd.read_csv('leads.csv')"
   ]
  },
  {
   "cell_type": "code",
   "execution_count": 8,
   "id": "63510e5e",
   "metadata": {},
   "outputs": [
    {
     "name": "stdout",
     "output_type": "stream",
     "text": [
      "Collecting sweetviz\n",
      "  Downloading sweetviz-2.2.1-py3-none-any.whl (15.1 MB)\n",
      "\u001b[2K     \u001b[90m━━━━━━━━━━━━━━━━━━━━━━━━━━━━━━━━━━━━━━━━\u001b[0m \u001b[32m15.1/15.1 MB\u001b[0m \u001b[31m3.0 MB/s\u001b[0m eta \u001b[36m0:00:00\u001b[0m00:01\u001b[0m00:01\u001b[0m\n",
      "\u001b[?25hRequirement already satisfied: scipy>=1.3.2 in /Users/Mansi/opt/anaconda3/lib/python3.9/site-packages (from sweetviz) (1.9.1)\n",
      "Requirement already satisfied: jinja2>=2.11.1 in /Users/Mansi/opt/anaconda3/lib/python3.9/site-packages (from sweetviz) (2.11.3)\n",
      "Requirement already satisfied: matplotlib>=3.1.3 in /Users/Mansi/opt/anaconda3/lib/python3.9/site-packages (from sweetviz) (3.5.2)\n",
      "Requirement already satisfied: numpy>=1.16.0 in /Users/Mansi/opt/anaconda3/lib/python3.9/site-packages (from sweetviz) (1.21.5)\n",
      "Requirement already satisfied: pandas!=1.0.0,!=1.0.1,!=1.0.2,>=0.25.3 in /Users/Mansi/opt/anaconda3/lib/python3.9/site-packages (from sweetviz) (1.4.4)\n",
      "Requirement already satisfied: tqdm>=4.43.0 in /Users/Mansi/opt/anaconda3/lib/python3.9/site-packages (from sweetviz) (4.64.1)\n",
      "Collecting importlib-resources>=1.2.0\n",
      "  Downloading importlib_resources-6.1.0-py3-none-any.whl (33 kB)\n",
      "Requirement already satisfied: zipp>=3.1.0 in /Users/Mansi/opt/anaconda3/lib/python3.9/site-packages (from importlib-resources>=1.2.0->sweetviz) (3.8.0)\n",
      "Requirement already satisfied: MarkupSafe>=0.23 in /Users/Mansi/opt/anaconda3/lib/python3.9/site-packages (from jinja2>=2.11.1->sweetviz) (2.0.1)\n",
      "Requirement already satisfied: cycler>=0.10 in /Users/Mansi/opt/anaconda3/lib/python3.9/site-packages (from matplotlib>=3.1.3->sweetviz) (0.11.0)\n",
      "Requirement already satisfied: kiwisolver>=1.0.1 in /Users/Mansi/opt/anaconda3/lib/python3.9/site-packages (from matplotlib>=3.1.3->sweetviz) (1.4.2)\n",
      "Requirement already satisfied: python-dateutil>=2.7 in /Users/Mansi/opt/anaconda3/lib/python3.9/site-packages (from matplotlib>=3.1.3->sweetviz) (2.8.2)\n",
      "Requirement already satisfied: pillow>=6.2.0 in /Users/Mansi/opt/anaconda3/lib/python3.9/site-packages (from matplotlib>=3.1.3->sweetviz) (9.2.0)\n",
      "Requirement already satisfied: packaging>=20.0 in /Users/Mansi/opt/anaconda3/lib/python3.9/site-packages (from matplotlib>=3.1.3->sweetviz) (21.3)\n",
      "Requirement already satisfied: fonttools>=4.22.0 in /Users/Mansi/opt/anaconda3/lib/python3.9/site-packages (from matplotlib>=3.1.3->sweetviz) (4.25.0)\n",
      "Requirement already satisfied: pyparsing>=2.2.1 in /Users/Mansi/opt/anaconda3/lib/python3.9/site-packages (from matplotlib>=3.1.3->sweetviz) (3.0.9)\n",
      "Requirement already satisfied: pytz>=2020.1 in /Users/Mansi/opt/anaconda3/lib/python3.9/site-packages (from pandas!=1.0.0,!=1.0.1,!=1.0.2,>=0.25.3->sweetviz) (2022.1)\n",
      "Requirement already satisfied: six>=1.5 in /Users/Mansi/opt/anaconda3/lib/python3.9/site-packages (from python-dateutil>=2.7->matplotlib>=3.1.3->sweetviz) (1.16.0)\n",
      "Installing collected packages: importlib-resources, sweetviz\n",
      "Successfully installed importlib-resources-6.1.0 sweetviz-2.2.1\n"
     ]
    }
   ],
   "source": [
    "!pip install sweetviz"
   ]
  },
  {
   "cell_type": "code",
   "execution_count": 11,
   "id": "16bb4e7a",
   "metadata": {},
   "outputs": [
    {
     "data": {
      "application/vnd.jupyter.widget-view+json": {
       "model_id": "127571b9661845d28aa45ecf090756c6",
       "version_major": 2,
       "version_minor": 0
      },
      "text/plain": [
       "                                             |      | [  0%]   00:00 -> (? left)"
      ]
     },
     "metadata": {},
     "output_type": "display_data"
    },
    {
     "name": "stdout",
     "output_type": "stream",
     "text": [
      "Report sweet_report.html was generated! NOTEBOOK/COLAB USERS: the web browser MAY not pop up, regardless, the report IS saved in your notebook/colab files.\n"
     ]
    }
   ],
   "source": [
    "#Auto EDA \n",
    "import sweetviz as sv \n",
    "sweet_report = sv.analyze(leads) \n",
    "sweet_report.show_html('sweet_report.html')"
   ]
  },
  {
   "cell_type": "code",
   "execution_count": 12,
   "id": "962b18e0",
   "metadata": {},
   "outputs": [
    {
     "data": {
      "text/plain": [
       "'/Users/Mansi/Desktop/Lead Scoring Case Study/Lead Scoring Assignment'"
      ]
     },
     "execution_count": 12,
     "metadata": {},
     "output_type": "execute_result"
    }
   ],
   "source": [
    "pwd()"
   ]
  },
  {
   "cell_type": "code",
   "execution_count": null,
   "id": "a75e0ad5",
   "metadata": {},
   "outputs": [],
   "source": []
  },
  {
   "cell_type": "code",
   "execution_count": null,
   "id": "492f2201",
   "metadata": {},
   "outputs": [],
   "source": []
  },
  {
   "cell_type": "code",
   "execution_count": null,
   "id": "d2e3b775",
   "metadata": {},
   "outputs": [],
   "source": []
  }
 ],
 "metadata": {
  "kernelspec": {
   "display_name": "Python 3 (ipykernel)",
   "language": "python",
   "name": "python3"
  },
  "language_info": {
   "codemirror_mode": {
    "name": "ipython",
    "version": 3
   },
   "file_extension": ".py",
   "mimetype": "text/x-python",
   "name": "python",
   "nbconvert_exporter": "python",
   "pygments_lexer": "ipython3",
   "version": "3.9.13"
  }
 },
 "nbformat": 4,
 "nbformat_minor": 5
}
